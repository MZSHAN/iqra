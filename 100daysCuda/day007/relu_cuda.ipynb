{
  "nbformat": 4,
  "nbformat_minor": 0,
  "metadata": {
    "colab": {
      "provenance": [],
      "gpuType": "T4"
    },
    "kernelspec": {
      "name": "python3",
      "display_name": "Python 3"
    },
    "language_info": {
      "name": "python"
    },
    "accelerator": "GPU"
  },
  "cells": [
    {
      "cell_type": "code",
      "execution_count": 1,
      "metadata": {
        "colab": {
          "base_uri": "https://localhost:8080/"
        },
        "id": "6GlvDx320R6d",
        "outputId": "65442823-5d78-467c-aab3-788f7603eb91"
      },
      "outputs": [
        {
          "output_type": "stream",
          "name": "stdout",
          "text": [
            "nvcc fatal   : No input files specified; use option --help for more information\n"
          ]
        }
      ],
      "source": [
        "!nvcc"
      ]
    },
    {
      "cell_type": "code",
      "source": [
        "!nvidia-smi"
      ],
      "metadata": {
        "colab": {
          "base_uri": "https://localhost:8080/"
        },
        "id": "UBgnz5DF1HhB",
        "outputId": "081c3748-618e-468b-cf50-e3edddc90c20"
      },
      "execution_count": 2,
      "outputs": [
        {
          "output_type": "stream",
          "name": "stdout",
          "text": [
            "Mon Feb 10 07:48:35 2025       \n",
            "+-----------------------------------------------------------------------------------------+\n",
            "| NVIDIA-SMI 550.54.15              Driver Version: 550.54.15      CUDA Version: 12.4     |\n",
            "|-----------------------------------------+------------------------+----------------------+\n",
            "| GPU  Name                 Persistence-M | Bus-Id          Disp.A | Volatile Uncorr. ECC |\n",
            "| Fan  Temp   Perf          Pwr:Usage/Cap |           Memory-Usage | GPU-Util  Compute M. |\n",
            "|                                         |                        |               MIG M. |\n",
            "|=========================================+========================+======================|\n",
            "|   0  Tesla T4                       Off |   00000000:00:04.0 Off |                    0 |\n",
            "| N/A   50C    P8              9W /   70W |       0MiB /  15360MiB |      0%      Default |\n",
            "|                                         |                        |                  N/A |\n",
            "+-----------------------------------------+------------------------+----------------------+\n",
            "                                                                                         \n",
            "+-----------------------------------------------------------------------------------------+\n",
            "| Processes:                                                                              |\n",
            "|  GPU   GI   CI        PID   Type   Process name                              GPU Memory |\n",
            "|        ID   ID                                                               Usage      |\n",
            "|=========================================================================================|\n",
            "|  No running processes found                                                             |\n",
            "+-----------------------------------------------------------------------------------------+\n"
          ]
        }
      ]
    },
    {
      "cell_type": "code",
      "source": [
        "!pip install ninja"
      ],
      "metadata": {
        "colab": {
          "base_uri": "https://localhost:8080/"
        },
        "id": "64tlhk_27SJ3",
        "outputId": "97200a67-9e92-4a55-b496-fa36fa97506b"
      },
      "execution_count": 5,
      "outputs": [
        {
          "output_type": "stream",
          "name": "stdout",
          "text": [
            "Collecting ninja\n",
            "  Downloading ninja-1.11.1.3-py3-none-manylinux_2_12_x86_64.manylinux2010_x86_64.whl.metadata (5.3 kB)\n",
            "Downloading ninja-1.11.1.3-py3-none-manylinux_2_12_x86_64.manylinux2010_x86_64.whl (422 kB)\n",
            "\u001b[?25l   \u001b[90m━━━━━━━━━━━━━━━━━━━━━━━━━━━━━━━━━━━━━━━━\u001b[0m \u001b[32m0.0/422.9 kB\u001b[0m \u001b[31m?\u001b[0m eta \u001b[36m-:--:--\u001b[0m\r\u001b[2K   \u001b[91m━━━━━━━━━━━━━━━━━━━━━━━━━━━━━━\u001b[0m\u001b[90m╺\u001b[0m\u001b[90m━━━━━━━━━\u001b[0m \u001b[32m317.4/422.9 kB\u001b[0m \u001b[31m9.4 MB/s\u001b[0m eta \u001b[36m0:00:01\u001b[0m\r\u001b[2K   \u001b[90m━━━━━━━━━━━━━━━━━━━━━━━━━━━━━━━━━━━━━━━━\u001b[0m \u001b[32m422.9/422.9 kB\u001b[0m \u001b[31m9.1 MB/s\u001b[0m eta \u001b[36m0:00:00\u001b[0m\n",
            "\u001b[?25hInstalling collected packages: ninja\n",
            "Successfully installed ninja-1.11.1.3\n"
          ]
        }
      ]
    },
    {
      "cell_type": "code",
      "source": [
        "%%writefile relu_kernel.cu\n",
        "\n",
        "#include <iostream>\n",
        "#include <cuda_runtime.h>\n",
        "#include <torch/extension.h>\n",
        "\n",
        "using namespace std;\n",
        "\n",
        "#define BLOCKSIZE 8\n",
        "#define STRINGFY(str) #str\n",
        "#define TORCH_BINDING_COMMON_EXTENSION(func) \\\n",
        "  m.def(STRINGFY(func), &func, STRINGFY(func));\n",
        "#define CHECK_CUDA_CALL(err)                                                \\\n",
        "    {                                                                       \\\n",
        "        if (err != cudaSuccess)                                             \\\n",
        "        {                                                                   \\\n",
        "            fprintf(stderr, \"CUDA error in file %s at line %d: %s\\n\",       \\\n",
        "                    __FILE__, __LINE__, cudaGetErrorString(err));           \\\n",
        "            exit(EXIT_FAILURE);                                             \\\n",
        "        }                                                                   \\\n",
        "    }\n",
        "\n",
        "\n",
        "__global__\n",
        "void relu_kernel(float* input, float* output, int rows, int cols, int channels) {\n",
        "    int col = blockDim.x * blockIdx.x + threadIdx.x;\n",
        "    int row = blockDim.y * blockIdx.y + threadIdx.y;\n",
        "    int channel = blockDim.z * blockIdx.z + threadIdx.z;\n",
        "\n",
        "    if (row < rows && col < cols && channel < channels){\n",
        "        int elems_in_channel = rows * cols;\n",
        "        int idx = elems_in_channel * channel + row * cols + col;\n",
        "        if (input[idx] > 0)\n",
        "            output[idx] = input[idx];\n",
        "    }\n",
        "}\n",
        "\n",
        "\n",
        "torch::Tensor relu(torch::Tensor input) {\n",
        "    TORCH_CHECK(input.device().is_cuda(), \"input should be a CUDA Tensor\");\n",
        "    TORCH_CHECK(input.dim() == 3, \"Input tensor must have 3 dimensions\");\n",
        "    int rows = input.size(0);\n",
        "    int cols = input.size(1);\n",
        "    int channels = input.size(2);\n",
        "\n",
        "    auto output = torch::zeros({rows, cols, channels}, input.options());\n",
        "\n",
        "    dim3 block_dims(BLOCKSIZE, BLOCKSIZE, BLOCKSIZE);\n",
        "    int blocks_x = (cols + BLOCKSIZE - 1)/ BLOCKSIZE;\n",
        "    int blocks_y = (rows + BLOCKSIZE - 1)/ BLOCKSIZE;\n",
        "    int blocks_z = (channels + BLOCKSIZE - 1)/ BLOCKSIZE;\n",
        "\n",
        "    dim3 grid_dims(blocks_x, blocks_y, blocks_z);\n",
        "\n",
        "    relu_kernel<<<grid_dims, block_dims>>>(\n",
        "        input.data_ptr<float>(),\n",
        "        output.data_ptr<float>(),\n",
        "        rows,\n",
        "        cols,\n",
        "        channels\n",
        "    );\n",
        "    cudaError_t err = cudaGetLastError();\n",
        "    CHECK_CUDA_CALL(err);\n",
        "\n",
        "    return output;\n",
        "}\n",
        "\n",
        "PYBIND11_MODULE(TORCH_EXTENSION_NAME, m) {\n",
        "  TORCH_BINDING_COMMON_EXTENSION(relu)\n",
        "}"
      ],
      "metadata": {
        "colab": {
          "base_uri": "https://localhost:8080/"
        },
        "id": "0iQgQoef1N8e",
        "outputId": "1acf59c2-c230-4103-b407-3c1d875931b1"
      },
      "execution_count": 4,
      "outputs": [
        {
          "output_type": "stream",
          "name": "stdout",
          "text": [
            "Overwriting relu_kernel.cu\n"
          ]
        }
      ]
    },
    {
      "cell_type": "code",
      "source": [
        "import torch\n",
        "import time\n",
        "from torch.utils.cpp_extension import load\n",
        "print(torch.__version__)\n",
        "print(torch.cuda.is_available())\n",
        "print(torch.version.cuda)\n",
        "\n",
        "lib = load(\n",
        "    name=\"relu\",\n",
        "    sources=[\"/content/relu_kernel.cu\"]\n",
        ")"
      ],
      "metadata": {
        "colab": {
          "base_uri": "https://localhost:8080/"
        },
        "id": "UeEv7qFm6-wK",
        "outputId": "30fb0de0-6db7-41de-b57d-e072a6a2c884"
      },
      "execution_count": 5,
      "outputs": [
        {
          "output_type": "stream",
          "name": "stdout",
          "text": [
            "2.5.1+cu124\n",
            "True\n",
            "12.4\n"
          ]
        },
        {
          "output_type": "stream",
          "name": "stderr",
          "text": [
            "/usr/local/lib/python3.11/dist-packages/torch/utils/cpp_extension.py:1964: UserWarning: TORCH_CUDA_ARCH_LIST is not set, all archs for visible cards are included for compilation. \n",
            "If this is not desired, please set os.environ['TORCH_CUDA_ARCH_LIST'].\n",
            "  warnings.warn(\n"
          ]
        }
      ]
    },
    {
      "cell_type": "code",
      "source": [
        "import torch\n",
        "input = torch.randn(10, 10, 10).cuda()\n",
        "expected_output  = torch.relu(input)\n",
        "output = lib.relu(input)\n",
        "assert torch.allclose(output, expected_output)"
      ],
      "metadata": {
        "id": "jnYnln6z7JZ3"
      },
      "execution_count": 7,
      "outputs": []
    },
    {
      "cell_type": "code",
      "source": [],
      "metadata": {
        "id": "jRQ4xoGl8eXv"
      },
      "execution_count": null,
      "outputs": []
    }
  ]
}